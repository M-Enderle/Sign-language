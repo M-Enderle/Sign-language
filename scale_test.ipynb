{
 "cells": [
  {
   "cell_type": "code",
   "execution_count": 11,
   "metadata": {
    "collapsed": true
   },
   "outputs": [],
   "source": [
    "from sign_language.utils import *\n",
    "import numpy as np\n",
    "import matplotlib.pyplot as plt"
   ]
  },
  {
   "cell_type": "code",
   "execution_count": 10,
   "outputs": [
    {
     "data": {
      "text/plain": "array([0.33593848, 0.18612313, 0.43392587, 0.17750828, 0.33593848,\n       0.18612313, 0.44447628, 0.18924481, 0.32702348, 0.19957942,\n       0.44447628, 0.18924481, 0.32702348, 0.19957942, 0.45143414,\n       0.20416574, 0.32204807, 0.21569566, 0.455495  , 0.22032632,\n       0.31995973, 0.23247257, 0.45164174, 0.22529155, 0.32398692,\n       0.23655815, 0.45762485, 0.24119145, 0.32029957, 0.25356656,\n       0.4572475 , 0.26037788, 0.32029957, 0.25356656, 0.45783582,\n       0.26103497, 0.32231334, 0.27329075, 0.45697078, 0.27958083,\n       0.32467917, 0.29149923, 0.45792535, 0.28115422, 0.32445213,\n       0.29321411, 0.45573124, 0.2996552 , 0.32805082, 0.31101742,\n       0.44893283, 0.31182313, 0.3277919 , 0.3144215 , 0.45335788,\n       0.32591331, 0.33356813, 0.33649597, 0.44774401, 0.33579811,\n       0.33984521, 0.34501576, 0.44804874, 0.34469473, 0.3407155 ,\n       0.35382804, 0.44181135, 0.3584643 , 0.34833795, 0.36618051,\n       0.43394193, 0.37093064, 0.35739356, 0.37717074, 0.42675251,\n       0.37978375, 0.35739356, 0.37717074, 0.42675251, 0.37978375,\n       0.35739356, 0.37717074, 0.33593848, 0.18612313, 0.35739356,\n       0.37717074, 0.33593848, 0.18612313, 0.35739356, 0.37717074,\n       0.33593848, 0.18612313, 0.35739356, 0.37717074, 0.34996271,\n       0.17611739, 0.35739356, 0.37717074, 0.34996271, 0.17611739,\n       0.35739356, 0.37717074, 0.3653076 , 0.17056018, 0.36531776,\n       0.38466379, 0.3653076 , 0.17056018, 0.37376419, 0.39109212,\n       0.3653076 , 0.17056018, 0.38362175, 0.39538917, 0.38370681,\n       0.16814771, 0.38362175, 0.39538917, 0.38370681, 0.16814771,\n       0.39643955, 0.39605659, 0.38370681, 0.16814771, 0.39643955,\n       0.39605659, 0.40254089, 0.16730008, 0.40923387, 0.39333472,\n       0.40254089, 0.16730008, 0.40923387, 0.39333472, 0.41861624,\n       0.17011756, 0.41884473, 0.38750044, 0.41861624, 0.17011756,\n       0.42675251, 0.37978375, 0.41861624, 0.17011756, 0.42675251,\n       0.37978375, 0.43392587, 0.17750828, 0.42675251, 0.37978375,\n       0.43392587, 0.17750828, 0.42675251, 0.37978375, 0.43392587,\n       0.17750828, 0.42675251, 0.37978375, 0.43392587, 0.17750828,\n       0.52205878, 0.88536114, 0.53145158, 0.84020156, 0.52039438,\n       0.7946015 , 0.4948484 , 0.7641269 , 0.47103268, 0.75376534,\n       0.47770727, 0.80025446, 0.45475072, 0.75468665, 0.44551489,\n       0.73001313, 0.43817317, 0.71077079, 0.46063155, 0.81878078,\n       0.4392662 , 0.76637083, 0.42907658, 0.73618114, 0.4218213 ,\n       0.71271908, 0.45089671, 0.83596534, 0.42922184, 0.78628266,\n       0.41796893, 0.75423723, 0.40985581, 0.72882903, 0.4459168 ,\n       0.85179985, 0.4257884 , 0.81391883, 0.41596088, 0.7899127 ,\n       0.4090493 , 0.76854903, 0.23703493, 0.64887869, 0.23772147,\n       0.59253913, 0.26027021, 0.55933374, 0.28562617, 0.53882146,\n       0.29934075, 0.51993579, 0.29602155, 0.55042374, 0.32571018,\n       0.52552539, 0.34042436, 0.51203775, 0.35218421, 0.50212103,\n       0.3101387 , 0.57183403, 0.34064355, 0.5435316 , 0.35515058,\n       0.52699685, 0.36679566, 0.51398736, 0.31812486, 0.59509665,\n       0.34669894, 0.5672583 , 0.36041901, 0.55091822, 0.37012696,\n       0.53667372, 0.32119137, 0.61976302, 0.34355789, 0.59633511,\n       0.35589159, 0.58240557, 0.36472562, 0.56952298])"
     },
     "execution_count": 10,
     "metadata": {},
     "output_type": "execute_result"
    }
   ],
   "source": [
    "hol = np.load(\"data/from/0.npy\")[0]\n",
    "hol"
   ],
   "metadata": {
    "collapsed": false,
    "pycharm": {
     "name": "#%%\n"
    }
   }
  },
  {
   "cell_type": "code",
   "execution_count": 29,
   "outputs": [
    {
     "data": {
      "text/plain": "<Figure size 432x288 with 1 Axes>",
      "image/png": "[encoded data removed]"
     },
     "metadata": {
      "needs_background": "light"
     },
     "output_type": "display_data"
    }
   ],
   "source": [
    "def plot(_hol):\n",
    "    _x = _hol[::2]\n",
    "    _y = _hol[1::2]\n",
    "    _center = np.array([(np.min(x) + np.max(x)) / 2, (np.min(y) + np.max(y)) / 2])\n",
    "    plt.scatter(center[0], center[1], c=\"r\")\n",
    "    plt.scatter(_x, _y, s=1)\n",
    "    plt.xlim(0,1)\n",
    "    plt.ylim(0,1)\n",
    "    plt.show()\n",
    "\n",
    "plot(hol)"
   ],
   "metadata": {
    "collapsed": false,
    "pycharm": {
     "name": "#%%\n"
    }
   }
  },
  {
   "cell_type": "code",
   "execution_count": 19,
   "outputs": [
    {
     "data": {
      "text/plain": "array([0.38424326, 0.52633061])"
     },
     "execution_count": 19,
     "metadata": {},
     "output_type": "execute_result"
    }
   ],
   "source": [
    "x = hol[::2]\n",
    "y = hol[1::2]\n",
    "x_min = np.min(x)\n",
    "x_max = np.max(x)\n",
    "y_min = np.min(y)\n",
    "y_max = np.max(y)\n",
    "\n",
    "center = np.array([(x_min + x_max) / 2, (y_min + y_max) / 2])\n",
    "center"
   ],
   "metadata": {
    "collapsed": false,
    "pycharm": {
     "name": "#%%\n"
    }
   }
  },
  {
   "cell_type": "code",
   "execution_count": 41,
   "outputs": [
    {
     "data": {
      "text/plain": "<Figure size 432x288 with 1 Axes>",
      "image/png": "[encoded data removed]"
     },
     "metadata": {
      "needs_background": "light"
     },
     "output_type": "display_data"
    }
   ],
   "source": [
    "factor = 0.2\n",
    "\n",
    "hol_ = hol.copy()\n",
    "\n",
    "# move the center to the origin\n",
    "hol_[::2] -= center[0]\n",
    "hol_[1::2] -= center[1]\n",
    "\n",
    "# multiply by 1.2 to make the image bigger\n",
    "hol_[::2] *= factor\n",
    "hol_[1::2] *= factor\n",
    "\n",
    "# move the center to the origin again\n",
    "hol_[::2] += center[0]\n",
    "hol_[1::2] += center[1]\n",
    "\n",
    "assert max(hol_[::2]) < 1.0\n",
    "assert max(hol_[1::2]) < 1.0\n",
    "assert min(hol_[::2]) >= 0.0\n",
    "assert min(hol_[1::2]) >= 0.0\n",
    "\n",
    "plot(hol_)\n"
   ],
   "metadata": {
    "collapsed": false,
    "pycharm": {
     "name": "#%%\n"
    }
   }
  }
 ],
 "metadata": {
  "kernelspec": {
   "display_name": "Python 3",
   "language": "python",
   "name": "python3"
  },
  "language_info": {
   "codemirror_mode": {
    "name": "ipython",
    "version": 2
   },
   "file_extension": ".py",
   "mimetype": "text/x-python",
   "name": "python",
   "nbconvert_exporter": "python",
   "pygments_lexer": "ipython2",
   "version": "2.7.6"
  }
 },
 "nbformat": 4,
 "nbformat_minor": 0
}