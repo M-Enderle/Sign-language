{
 "cells": [
  {
   "cell_type": "code",
   "execution_count": 2,
   "outputs": [],
   "source": [
    "import os\n",
    "from scipy.ndimage import gaussian_filter1d\n",
    "from sklearn.model_selection import train_test_split\n",
    "from tensorflow.keras.utils import to_categorical\n",
    "from tensorflow.keras.models import Sequential\n",
    "from tensorflow.keras.layers import LSTM, Dense, Dropout\n",
    "from tensorflow.keras.callbacks import TensorBoard\n",
    "from sklearn.metrics import confusion_matrix\n",
    "import tensorflow as tf\n",
    "from matplotlib import pyplot as plt\n",
    "from tensorflow import keras\n",
    "from IPython.display import clear_output\n",
    "import numpy as np\n",
    "\n",
    "train_split = 0.70\n",
    "test_split = 1 - train_split\n",
    "val_split = 0.25"
   ],
   "metadata": {
    "collapsed": false,
    "pycharm": {
     "name": "#%%\n"
    }
   }
  },
  {
   "cell_type": "code",
   "execution_count": 3,
   "outputs": [
    {
     "data": {
      "text/plain": "{'fuck': 0, 'you': 1, 'nigger': 2}"
     },
     "execution_count": 3,
     "metadata": {},
     "output_type": "execute_result"
    }
   ],
   "source": [
    "# create a list of all subfolders\n",
    "actions = []\n",
    "for file in os.listdir(\"Data\"):\n",
    "    if os.path.isdir(os.path.join(\"MP_Data\", file)):\n",
    "        actions.append(file)\n",
    "\n",
    "actions = np.array(actions)\n",
    "\n",
    "label_map = {label:num for num, label in enumerate(actions)}\n",
    "label_map"
   ],
   "metadata": {
    "collapsed": false,
    "pycharm": {
     "name": "#%%\n"
    }
   }
  },
  {
   "cell_type": "code",
   "execution_count": 4,
   "outputs": [],
   "source": [
    "no_sequences = 30\n",
    "sequence_length = 30\n",
    "start_folder = 30\n",
    "DATA_PATH = os.path.join('Data')\n",
    "\n",
    "sequences, labels = [], []\n",
    "for action in actions:\n",
    "    for sequence in range(1, no_sequences+1):\n",
    "        window = list(np.load(os.path.join(DATA_PATH, action, str(sequence) + \".npy\")))\n",
    "        sequences.append(window)\n",
    "        labels.append(label_map[action])\n",
    "\n",
    "assert len(labels) == len(actions) * no_sequences"
   ],
   "metadata": {
    "collapsed": false,
    "pycharm": {
     "name": "#%%\n"
    }
   }
  },
  {
   "cell_type": "code",
   "execution_count": 5,
   "outputs": [],
   "source": [
    "X = np.array(sequences)\n",
    "y = to_categorical(labels).astype(int)\n",
    "X_train, X_test, y_train, y_test = train_test_split(X, y, test_size=test_split)"
   ],
   "metadata": {
    "collapsed": false,
    "pycharm": {
     "name": "#%%\n"
    }
   }
  },
  {
   "cell_type": "code",
   "execution_count": 6,
   "outputs": [],
   "source": [
    "class PlotLosses(keras.callbacks.Callback):\n",
    "    def on_train_begin(self, logs={}):\n",
    "        self.i = 0\n",
    "        self.x = []\n",
    "        self.losses = []\n",
    "        self.val_losses = []\n",
    "        self.fig = plt.figure()\n",
    "        self.logs = []\n",
    "\n",
    "    def on_epoch_end(self, epoch, logs={}):\n",
    "\n",
    "        self.logs.append(logs)\n",
    "        self.x.append(self.i)\n",
    "        self.losses.append(logs.get('loss'))\n",
    "        self.val_losses.append(logs.get('val_loss'))\n",
    "        self.i += 1\n",
    "\n",
    "        clear_output(wait=True)\n",
    "        if len(self.x) > 250:\n",
    "            plt.plot(self.x[len(self.x)-250:], gaussian_filter1d(self.losses[len(self.x)-250:], 0.8), label=\"loss\")\n",
    "            plt.plot(self.x[len(self.x)-250:], gaussian_filter1d(self.val_losses[len(self.x)-250:], 0.8), label=\"val_loss\")\n",
    "        else:\n",
    "            plt.plot(self.x, gaussian_filter1d(self.losses, 3), label=\"loss\")\n",
    "            plt.plot(self.x, gaussian_filter1d(self.val_losses, 3), label=\"val_loss\")\n",
    "\n",
    "        plt.legend()\n",
    "        plt.show()\n",
    "\n",
    "plot_losses = PlotLosses()\n",
    "log_dir = os.path.join('Logs')\n",
    "tb_callback = TensorBoard(log_dir=log_dir)\n",
    "early__stopping = tf.keras.callbacks.EarlyStopping(monitor='val_loss', patience=50, mode=\"min\", min_delta=0.001)"
   ],
   "metadata": {
    "collapsed": false,
    "pycharm": {
     "name": "#%%\n"
    }
   }
  },
  {
   "cell_type": "code",
   "execution_count": 7,
   "outputs": [
    {
     "data": {
      "text/plain": "<Figure size 432x288 with 1 Axes>",
      "image/png": "[encoded data removed]"
     },
     "metadata": {
      "needs_background": "light"
     },
     "output_type": "display_data"
    },
    {
     "name": "stdout",
     "output_type": "stream",
     "text": [
      "1/1 [==============================] - 0s 308ms/step - loss: 0.5971 - accuracy: 0.7407 - val_loss: 0.2502 - val_accuracy: 1.0000\n",
      "Model: \"sequential\"\n",
      "_________________________________________________________________\n",
      " Layer (type)                Output Shape              Param #   \n",
      "=================================================================\n",
      " lstm (LSTM)                 (None, 30, 256)           1965056   \n",
      "                                                                 \n",
      " dropout (Dropout)           (None, 30, 256)           0         \n",
      "                                                                 \n",
      " lstm_1 (LSTM)               (None, 128)               197120    \n",
      "                                                                 \n",
      " dropout_1 (Dropout)         (None, 128)               0         \n",
      "                                                                 \n",
      " dense (Dense)               (None, 64)                8256      \n",
      "                                                                 \n",
      " dropout_2 (Dropout)         (None, 64)                0         \n",
      "                                                                 \n",
      " dense_1 (Dense)             (None, 32)                2080      \n",
      "                                                                 \n",
      " dense_2 (Dense)             (None, 3)                 99        \n",
      "                                                                 \n",
      "=================================================================\n",
      "Total params: 2,172,611\n",
      "Trainable params: 2,172,611\n",
      "Non-trainable params: 0\n",
      "_________________________________________________________________\n"
     ]
    }
   ],
   "source": [
    "model = Sequential()\n",
    "model.add(LSTM(256, return_sequences=True, activation='selu', kernel_initializer='lecun_normal', input_shape=(30,1662)))\n",
    "model.add(Dropout(0.4))\n",
    "model.add(LSTM(128, return_sequences=False, activation='selu', kernel_initializer='lecun_normal'))\n",
    "model.add(Dropout(0.2))\n",
    "model.add(Dense(64, activation='selu', kernel_initializer='lecun_normal'))\n",
    "model.add(Dropout(0.1))\n",
    "model.add(Dense(32, activation='selu', kernel_initializer='lecun_normal'))\n",
    "model.add(Dense(actions.shape[0], activation='softmax'))\n",
    "\n",
    "from tensorflow.keras.optimizers import SGD\n",
    "opt = SGD(lr=0.0001)\n",
    "\n",
    "model.compile(optimizer=opt, loss=\"categorical_crossentropy\", metrics=['accuracy'])\n",
    "model.fit(X_train, y_train, epochs=200, callbacks=[plot_losses, tb_callback], verbose=1, validation_split=val_split)\n",
    "model.summary()"
   ],
   "metadata": {
    "collapsed": false,
    "pycharm": {
     "name": "#%%\n"
    }
   }
  },
  {
   "cell_type": "code",
   "execution_count": 8,
   "outputs": [
    {
     "name": "stdout",
     "output_type": "stream",
     "text": [
      "2/2 [==============================] - 0s 39ms/step\b\b\b\b\b\b\b\b\b\b\b\b\b\b\b\b\b\b\b\b\b\b\b\b\b\b\b\b\b\b\b\b\b\b\b\b\b\b\b\b\b\n",
      "True  -  predicted nigger but was nigger\n",
      "True  -  predicted fuck but was fuck\n",
      "True  -  predicted you but was you\n",
      "True  -  predicted nigger but was nigger\n",
      "True  -  predicted nigger but was nigger\n",
      "True  -  predicted you but was you\n",
      "True  -  predicted nigger but was nigger\n",
      "False  -  predicted you but was fuck\n",
      "False  -  predicted you but was nigger\n",
      "False  -  predicted you but was nigger\n",
      "True  -  predicted nigger but was nigger\n",
      "False  -  predicted you but was fuck\n",
      "True  -  predicted nigger but was nigger\n",
      "True  -  predicted you but was you\n",
      "True  -  predicted you but was you\n",
      "True  -  predicted fuck but was fuck\n",
      "True  -  predicted nigger but was nigger\n",
      "True  -  predicted you but was you\n",
      "True  -  predicted you but was you\n",
      "True  -  predicted fuck but was fuck\n",
      "True  -  predicted you but was you\n",
      "True  -  predicted fuck but was fuck\n",
      "True  -  predicted nigger but was nigger\n",
      "True  -  predicted fuck but was fuck\n",
      "True  -  predicted you but was you\n",
      "True  -  predicted fuck but was fuck\n",
      "True  -  predicted you but was you\n",
      "True  -  predicted fuck but was fuck\n",
      "True  -  predicted fuck but was fuck\n",
      "True  -  predicted nigger but was nigger\n",
      "True  -  predicted nigger but was nigger\n",
      "False  -  predicted nigger but was you\n",
      "True  -  predicted nigger but was nigger\n",
      "True  -  predicted fuck but was fuck\n",
      "True  -  predicted you but was you\n",
      "True  -  predicted you but was you\n",
      "False  -  predicted you but was nigger\n",
      "True  -  predicted fuck but was fuck\n",
      "True  -  predicted fuck but was fuck\n",
      "True  -  predicted you but was you\n",
      "True  -  predicted nigger but was nigger\n",
      "True  -  predicted nigger but was nigger\n",
      "True  -  predicted you but was you\n",
      "True  -  predicted nigger but was nigger\n",
      "True  -  predicted you but was you\n"
     ]
    }
   ],
   "source": [
    "y_pred = model.predict(X_test)\n",
    "\n",
    "for i in range(len(y_pred)):\n",
    "    print(\"Predicted:\", actions[np.argmax(y_pred[i])], \" \"*(19 - len(actions[np.argmax(res[i])])), \"  actual: \", actions[np.argmax(y_test[i])], \" \"*(19 - len(actions[np.argmax(y_test[i])])),\n",
    "          \"Result:\", \"Correct\" if np.argmax(y_pred[i]) == np.argmax(y_test[i]) else \"Incorrect\")"
   ],
   "metadata": {
    "collapsed": false,
    "pycharm": {
     "name": "#%%\n"
    }
   }
  },
  {
   "cell_type": "code",
   "execution_count": 9,
   "outputs": [
    {
     "data": {
      "text/plain": "array([[11,  2,  0],\n       [ 0, 14,  1],\n       [ 0,  3, 14]], dtype=int64)"
     },
     "execution_count": 9,
     "metadata": {},
     "output_type": "execute_result"
    }
   ],
   "source": [
    "cm = confusion_matrix(np.argmax(y_test, axis=1), np.argmax(y_pred, axis=1))\n",
    "cm"
   ],
   "metadata": {
    "collapsed": false,
    "pycharm": {
     "name": "#%%\n"
    }
   }
  },
  {
   "cell_type": "code",
   "execution_count": 10,
   "outputs": [
    {
     "name": "stdout",
     "output_type": "stream",
     "text": [
      "Accuracy: 86.66666666666667%\n",
      "Precision: [1.         0.73684211 0.93333333]\n",
      "Recall: [0.84615385 0.93333333 0.82352941]\n",
      "F1 score: [0.91666667 0.82352941 0.875     ]\n"
     ]
    }
   ],
   "source": [
    "# print accuracy\n",
    "acc = (cm.diagonal().sum() / cm.sum()) * 100\n",
    "print(f\"Accuracy: {acc}%\")\n",
    "\n",
    "# print precision\n",
    "precision = np.diag(cm) / np.sum(cm, axis=0)\n",
    "print(f\"Precision: {precision}\")\n",
    "\n",
    "# print recall\n",
    "recall = np.diag(cm) / np.sum(cm, axis=1)\n",
    "print(f\"Recall: {recall}\")\n",
    "\n",
    "# print f1 score\n",
    "f1_score = 2 * (precision * recall) / (precision + recall)\n",
    "print(f\"F1 score: {f1_score}\")"
   ],
   "metadata": {
    "collapsed": false,
    "pycharm": {
     "name": "#%%\n"
    }
   }
  },
  {
   "cell_type": "code",
   "execution_count": 11,
   "outputs": [
    {
     "ename": "ModuleNotFoundError",
     "evalue": "No module named 'seaborn'",
     "output_type": "error",
     "traceback": [
      "\u001B[1;31m---------------------------------------------------------------------------\u001B[0m",
      "\u001B[1;31mModuleNotFoundError\u001B[0m                       Traceback (most recent call last)",
      "Input \u001B[1;32mIn [11]\u001B[0m, in \u001B[0;36m<cell line: 1>\u001B[1;34m()\u001B[0m\n\u001B[1;32m----> 1\u001B[0m \u001B[38;5;28;01mimport\u001B[39;00m \u001B[38;5;21;01mseaborn\u001B[39;00m \u001B[38;5;28;01mas\u001B[39;00m \u001B[38;5;21;01msns\u001B[39;00m\n\u001B[0;32m      2\u001B[0m \u001B[38;5;28;01mimport\u001B[39;00m \u001B[38;5;21;01mmatplotlib\u001B[39;00m\u001B[38;5;21;01m.\u001B[39;00m\u001B[38;5;21;01mpyplot\u001B[39;00m \u001B[38;5;28;01mas\u001B[39;00m \u001B[38;5;21;01mplt\u001B[39;00m\n\u001B[0;32m      4\u001B[0m sns\u001B[38;5;241m.\u001B[39mheatmap(cm, annot\u001B[38;5;241m=\u001B[39m\u001B[38;5;28;01mTrue\u001B[39;00m, cmap\u001B[38;5;241m=\u001B[39m\u001B[38;5;124m\"\u001B[39m\u001B[38;5;124mBlues_r\u001B[39m\u001B[38;5;124m\"\u001B[39m)\n",
      "\u001B[1;31mModuleNotFoundError\u001B[0m: No module named 'seaborn'"
     ]
    }
   ],
   "source": [
    "import seaborn as sns\n",
    "import matplotlib.pyplot as plt\n",
    "\n",
    "sns.heatmap(cm, annot=True, cmap=\"Blues_r\")\n",
    "plt.show()"
   ],
   "metadata": {
    "collapsed": false,
    "pycharm": {
     "name": "#%%\n"
    }
   }
  },
  {
   "cell_type": "code",
   "execution_count": null,
   "outputs": [],
   "source": [
    "label_map"
   ],
   "metadata": {
    "collapsed": false,
    "pycharm": {
     "name": "#%%\n"
    }
   }
  },
  {
   "cell_type": "code",
   "execution_count": 12,
   "outputs": [],
   "source": [
    "model.save('action.h5')\n"
   ],
   "metadata": {
    "collapsed": false,
    "pycharm": {
     "name": "#%%\n"
    }
   }
  }
 ],
 "metadata": {
  "kernelspec": {
   "display_name": "Python 3",
   "language": "python",
   "name": "python3"
  },
  "language_info": {
   "codemirror_mode": {
    "name": "ipython",
    "version": 2
   },
   "file_extension": ".py",
   "mimetype": "text/x-python",
   "name": "python",
   "nbconvert_exporter": "python",
   "pygments_lexer": "ipython2",
   "version": "2.7.6"
  }
 },
 "nbformat": 4,
 "nbformat_minor": 0
}