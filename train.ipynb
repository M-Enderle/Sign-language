{
 "cells": [
  {
   "cell_type": "code",
   "execution_count": 4,
   "outputs": [],
   "source": [
    "import os\n",
    "from scipy.ndimage import gaussian_filter1d\n",
    "from sklearn.model_selection import train_test_split\n",
    "from tensorflow.keras.utils import to_categorical\n",
    "from tensorflow.keras.models import Sequential\n",
    "from tensorflow.keras.layers import LSTM, Dense, Dropout\n",
    "from tensorflow.keras.callbacks import TensorBoard\n",
    "from sklearn.metrics import confusion_matrix\n",
    "import tensorflow as tf\n",
    "from matplotlib import pyplot as plt\n",
    "from tensorflow import keras\n",
    "from IPython.display import clear_output\n",
    "import numpy as np\n",
    "\n",
    "train_split = 0.70\n",
    "test_split = 1 - train_split\n",
    "val_split = 0.25"
   ],
   "metadata": {
    "collapsed": false,
    "pycharm": {
     "name": "#%%\n"
    }
   }
  },
  {
   "cell_type": "code",
   "execution_count": 5,
   "outputs": [
    {
     "data": {
      "text/plain": "{'I (am)': 0, 'learning': 1, 'sign': 2}"
     },
     "execution_count": 5,
     "metadata": {},
     "output_type": "execute_result"
    }
   ],
   "source": [
    "# create a list of all subfolders\n",
    "actions = []\n",
    "for file in os.listdir(\"MP_Data\"):\n",
    "    if os.path.isdir(os.path.join(\"MP_Data\", file)):\n",
    "        actions.append(file)\n",
    "\n",
    "actions = np.array(actions)\n",
    "\n",
    "label_map = {label:num for num, label in enumerate(actions)}\n",
    "label_map"
   ],
   "metadata": {
    "collapsed": false,
    "pycharm": {
     "name": "#%%\n"
    }
   }
  },
  {
   "cell_type": "code",
   "execution_count": 7,
   "outputs": [],
   "source": [
    "no_sequences = 5\n",
    "sequence_length = 30\n",
    "DATA_PATH = os.path.join('MP_Data')\n",
    "\n",
    "sequences, labels = [], []\n",
    "for action in actions:\n",
    "    for sequence in range(0, no_sequences):\n",
    "        window = list(np.load(os.path.join(DATA_PATH, action, str(sequence) + \".npy\")))\n",
    "        sequences.append(window)\n",
    "        labels.append(label_map[action])\n",
    "\n",
    "assert len(labels) == len(actions) * no_sequences"
   ],
   "metadata": {
    "collapsed": false,
    "pycharm": {
     "name": "#%%\n"
    }
   }
  },
  {
   "cell_type": "code",
   "execution_count": 8,
   "outputs": [],
   "source": [
    "X = np.array(sequences)\n",
    "y = to_categorical(labels).astype(int)\n",
    "X_train, X_test, y_train, y_test = train_test_split(X, y, test_size=test_split)"
   ],
   "metadata": {
    "collapsed": false,
    "pycharm": {
     "name": "#%%\n"
    }
   }
  },
  {
   "cell_type": "code",
   "execution_count": 9,
   "outputs": [],
   "source": [
    "class PlotLosses(keras.callbacks.Callback):\n",
    "    def on_train_begin(self, logs={}):\n",
    "        self.i = 0\n",
    "        self.x = []\n",
    "        self.losses = []\n",
    "        self.val_losses = []\n",
    "        self.fig = plt.figure()\n",
    "        self.logs = []\n",
    "\n",
    "    def on_epoch_end(self, epoch, logs={}):\n",
    "\n",
    "        self.logs.append(logs)\n",
    "        self.x.append(self.i)\n",
    "        self.losses.append(logs.get('loss'))\n",
    "        self.val_losses.append(logs.get('val_loss'))\n",
    "        self.i += 1\n",
    "\n",
    "        clear_output(wait=True)\n",
    "        if len(self.x) > 250:\n",
    "            plt.plot(self.x[len(self.x)-250:], gaussian_filter1d(self.losses[len(self.x)-250:], 0.8), label=\"loss\")\n",
    "            plt.plot(self.x[len(self.x)-250:], gaussian_filter1d(self.val_losses[len(self.x)-250:], 0.8), label=\"val_loss\")\n",
    "        else:\n",
    "            plt.plot(self.x, gaussian_filter1d(self.losses, 3), label=\"loss\")\n",
    "            plt.plot(self.x, gaussian_filter1d(self.val_losses, 3), label=\"val_loss\")\n",
    "\n",
    "        plt.legend()\n",
    "        plt.show()\n",
    "\n",
    "plot_losses = PlotLosses()\n",
    "log_dir = os.path.join('Logs')\n",
    "tb_callback = TensorBoard(log_dir=log_dir)\n",
    "early__stopping = tf.keras.callbacks.EarlyStopping(monitor='val_loss', patience=50, mode=\"min\", min_delta=0.001)"
   ],
   "metadata": {
    "collapsed": false,
    "pycharm": {
     "name": "#%%\n"
    }
   }
  },
  {
   "cell_type": "code",
   "execution_count": 11,
   "outputs": [
    {
     "data": {
      "text/plain": "<Figure size 432x288 with 1 Axes>",
      "image/png": "[encoded data removed]"
     },
     "metadata": {
      "needs_background": "light"
     },
     "output_type": "display_data"
    },
    {
     "name": "stdout",
     "output_type": "stream",
     "text": [
      "1/1 [==============================] - 0s 171ms/step - loss: 0.0730 - accuracy: 1.0000 - val_loss: 0.0030 - val_accuracy: 1.0000\n",
      "Model: \"sequential_1\"\n",
      "_________________________________________________________________\n",
      " Layer (type)                Output Shape              Param #   \n",
      "=================================================================\n",
      " lstm_2 (LSTM)               (None, 30, 256)           513024    \n",
      "                                                                 \n",
      " dropout_3 (Dropout)         (None, 30, 256)           0         \n",
      "                                                                 \n",
      " lstm_3 (LSTM)               (None, 128)               197120    \n",
      "                                                                 \n",
      " dropout_4 (Dropout)         (None, 128)               0         \n",
      "                                                                 \n",
      " dense_3 (Dense)             (None, 64)                8256      \n",
      "                                                                 \n",
      " dropout_5 (Dropout)         (None, 64)                0         \n",
      "                                                                 \n",
      " dense_4 (Dense)             (None, 32)                2080      \n",
      "                                                                 \n",
      " dense_5 (Dense)             (None, 3)                 99        \n",
      "                                                                 \n",
      "=================================================================\n",
      "Total params: 720,579\n",
      "Trainable params: 720,579\n",
      "Non-trainable params: 0\n",
      "_________________________________________________________________\n"
     ]
    }
   ],
   "source": [
    "model = Sequential()\n",
    "model.add(LSTM(256, return_sequences=True, activation='selu', kernel_initializer='lecun_normal', input_shape=(30,244)))\n",
    "model.add(Dropout(0.4))\n",
    "model.add(LSTM(128, return_sequences=False, activation='selu', kernel_initializer='lecun_normal'))\n",
    "model.add(Dropout(0.2))\n",
    "model.add(Dense(64, activation='selu', kernel_initializer='lecun_normal'))\n",
    "model.add(Dropout(0.1))\n",
    "model.add(Dense(32, activation='selu', kernel_initializer='lecun_normal'))\n",
    "model.add(Dense(actions.shape[0], activation='softmax'))\n",
    "\n",
    "from tensorflow.keras.optimizers import SGD\n",
    "opt = SGD(lr=0.0001)\n",
    "\n",
    "model.compile(optimizer=opt, loss=\"categorical_crossentropy\", metrics=['accuracy'])\n",
    "model.fit(X_train, y_train, epochs=900, callbacks=[plot_losses, tb_callback], verbose=1, validation_split=val_split)\n",
    "model.summary()"
   ],
   "metadata": {
    "collapsed": false,
    "pycharm": {
     "name": "#%%\n"
    }
   }
  },
  {
   "cell_type": "code",
   "execution_count": 13,
   "outputs": [
    {
     "name": "stdout",
     "output_type": "stream",
     "text": [
      "1/1 [==============================] - 0s 220ms/step\b\b\b\b\b\b\b\b\b\b\b\b\b\b\b\b\b\b\b\b\b\b\b\b\b\b\b\b\b\b\b\b\b\b\b\b\b\b\b\b\n",
      "Predicted: sign                   actual:  learning             Result: Incorrect\n",
      "Predicted: I (am)                 actual:  I (am)               Result: Correct\n",
      "Predicted: sign                   actual:  learning             Result: Incorrect\n",
      "Predicted: sign                   actual:  sign                 Result: Correct\n",
      "Predicted: I (am)                 actual:  I (am)               Result: Correct\n"
     ]
    }
   ],
   "source": [
    "y_pred = model.predict(X_test)\n",
    "\n",
    "for i in range(len(y_pred)):\n",
    "    print(\"Predicted:\", actions[np.argmax(y_pred[i])], \" \"*(19 - len(actions[np.argmax(y_pred[i])])), \"  actual: \", actions[np.argmax(y_test[i])], \" \"*(19 - len(actions[np.argmax(y_test[i])])),\n",
    "          \"Result:\", \"Correct\" if np.argmax(y_pred[i]) == np.argmax(y_test[i]) else \"Incorrect\")"
   ],
   "metadata": {
    "collapsed": false,
    "pycharm": {
     "name": "#%%\n"
    }
   }
  },
  {
   "cell_type": "code",
   "execution_count": null,
   "outputs": [],
   "source": [
    "cm = confusion_matrix(np.argmax(y_test, axis=1), np.argmax(y_pred, axis=1))\n",
    "cm"
   ],
   "metadata": {
    "collapsed": false,
    "pycharm": {
     "name": "#%%\n"
    }
   }
  },
  {
   "cell_type": "code",
   "execution_count": 12,
   "outputs": [
    {
     "ename": "NameError",
     "evalue": "name 'cm' is not defined",
     "output_type": "error",
     "traceback": [
      "\u001B[1;31m---------------------------------------------------------------------------\u001B[0m",
      "\u001B[1;31mNameError\u001B[0m                                 Traceback (most recent call last)",
      "Input \u001B[1;32mIn [12]\u001B[0m, in \u001B[0;36m<cell line: 2>\u001B[1;34m()\u001B[0m\n\u001B[0;32m      1\u001B[0m \u001B[38;5;66;03m# print accuracy\u001B[39;00m\n\u001B[1;32m----> 2\u001B[0m acc \u001B[38;5;241m=\u001B[39m (\u001B[43mcm\u001B[49m\u001B[38;5;241m.\u001B[39mdiagonal()\u001B[38;5;241m.\u001B[39msum() \u001B[38;5;241m/\u001B[39m cm\u001B[38;5;241m.\u001B[39msum()) \u001B[38;5;241m*\u001B[39m \u001B[38;5;241m100\u001B[39m\n\u001B[0;32m      3\u001B[0m \u001B[38;5;28mprint\u001B[39m(\u001B[38;5;124mf\u001B[39m\u001B[38;5;124m\"\u001B[39m\u001B[38;5;124mAccuracy: \u001B[39m\u001B[38;5;132;01m{\u001B[39;00macc\u001B[38;5;132;01m}\u001B[39;00m\u001B[38;5;124m%\u001B[39m\u001B[38;5;124m\"\u001B[39m)\n\u001B[0;32m      5\u001B[0m \u001B[38;5;66;03m# print precision\u001B[39;00m\n",
      "\u001B[1;31mNameError\u001B[0m: name 'cm' is not defined"
     ]
    }
   ],
   "source": [
    "# print accuracy\n",
    "acc = (cm.diagonal().sum() / cm.sum()) * 100\n",
    "print(f\"Accuracy: {acc}%\")\n",
    "\n",
    "# print precision\n",
    "precision = np.diag(cm) / np.sum(cm, axis=0)\n",
    "print(f\"Precision: {precision}\")\n",
    "\n",
    "# print recall\n",
    "recall = np.diag(cm) / np.sum(cm, axis=1)\n",
    "print(f\"Recall: {recall}\")\n",
    "\n",
    "# print f1 score\n",
    "f1_score = 2 * (precision * recall) / (precision + recall)\n",
    "print(f\"F1 score: {f1_score}\")"
   ],
   "metadata": {
    "collapsed": false,
    "pycharm": {
     "name": "#%%\n"
    }
   }
  },
  {
   "cell_type": "code",
   "execution_count": null,
   "outputs": [],
   "source": [
    "label_map"
   ],
   "metadata": {
    "collapsed": false,
    "pycharm": {
     "name": "#%%\n"
    }
   }
  },
  {
   "cell_type": "code",
   "execution_count": 14,
   "outputs": [],
   "source": [
    "model.save('action.h5')\n"
   ],
   "metadata": {
    "collapsed": false,
    "pycharm": {
     "name": "#%%\n"
    }
   }
  }
 ],
 "metadata": {
  "kernelspec": {
   "display_name": "Python 3",
   "language": "python",
   "name": "python3"
  },
  "language_info": {
   "codemirror_mode": {
    "name": "ipython",
    "version": 2
   },
   "file_extension": ".py",
   "mimetype": "text/x-python",
   "name": "python",
   "nbconvert_exporter": "python",
   "pygments_lexer": "ipython2",
   "version": "2.7.6"
  }
 },
 "nbformat": 4,
 "nbformat_minor": 0
}