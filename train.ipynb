{
 "cells": [
  {
   "cell_type": "code",
   "execution_count": 1,
   "outputs": [],
   "source": [
    "import os\n",
    "from scipy.ndimage import gaussian_filter1d\n",
    "from sklearn.model_selection import train_test_split\n",
    "from tensorflow.keras.utils import to_categorical\n",
    "from tensorflow.keras.models import Sequential\n",
    "from tensorflow.keras.layers import LSTM, Dense, Dropout\n",
    "from tensorflow.keras.callbacks import TensorBoard\n",
    "from sklearn.metrics import confusion_matrix\n",
    "import tensorflow as tf\n",
    "from matplotlib import pyplot as plt\n",
    "from tensorflow import keras\n",
    "from IPython.display import clear_output\n",
    "import numpy as np\n",
    "\n",
    "train_split = 0.70\n",
    "test_split = 1 - train_split\n",
    "val_split = 0.25"
   ],
   "metadata": {
    "collapsed": false,
    "pycharm": {
     "name": "#%%\n"
    }
   }
  },
  {
   "cell_type": "code",
   "execution_count": 2,
   "outputs": [
    {
     "data": {
      "text/plain": "{'hello': 0, 'world': 1, 'from': 2, 'germany': 3, 'none': 4}"
     },
     "execution_count": 2,
     "metadata": {},
     "output_type": "execute_result"
    }
   ],
   "source": [
    "# create a list of all subfolders\n",
    "actions = []\n",
    "for file in os.listdir(\"MP_Data\"):\n",
    "    if os.path.isdir(os.path.join(\"MP_Data\", file)):\n",
    "        actions.append(file)\n",
    "\n",
    "actions = np.array(actions)\n",
    "\n",
    "label_map = {label:num for num, label in enumerate(actions)}\n",
    "label_map"
   ],
   "metadata": {
    "collapsed": false,
    "pycharm": {
     "name": "#%%\n"
    }
   }
  },
  {
   "cell_type": "code",
   "execution_count": 3,
   "outputs": [],
   "source": [
    "sequence_length = 20\n",
    "DATA_PATH = os.path.join('MP_Data')\n",
    "\n",
    "sequences, labels = [], []\n",
    "for action in actions:\n",
    "    for file in os.listdir(os.path.join(DATA_PATH, action)):\n",
    "        window = list(np.load(os.path.join(DATA_PATH, action, file)))\n",
    "        sequences.append(window)\n",
    "        labels.append(label_map[action])"
   ],
   "metadata": {
    "collapsed": false,
    "pycharm": {
     "name": "#%%\n"
    }
   }
  },
  {
   "cell_type": "code",
   "execution_count": 4,
   "outputs": [],
   "source": [
    "X = np.array(sequences)\n",
    "y = to_categorical(labels).astype(int)\n",
    "X_train, X_test, y_train, y_test = train_test_split(X, y, test_size=test_split)"
   ],
   "metadata": {
    "collapsed": false,
    "pycharm": {
     "name": "#%%\n"
    }
   }
  },
  {
   "cell_type": "code",
   "execution_count": 5,
   "outputs": [],
   "source": [
    "class PlotLosses(keras.callbacks.Callback):\n",
    "    def on_train_begin(self, logs={}):\n",
    "        self.i = 0\n",
    "        self.x = []\n",
    "        self.losses = []\n",
    "        self.val_losses = []\n",
    "        self.fig = plt.figure()\n",
    "        self.logs = []\n",
    "\n",
    "    def on_epoch_end(self, epoch, logs={}):\n",
    "\n",
    "        self.logs.append(logs)\n",
    "        self.x.append(self.i)\n",
    "        self.losses.append(logs.get('loss'))\n",
    "        self.val_losses.append(logs.get('val_loss'))\n",
    "        self.i += 1\n",
    "\n",
    "        clear_output(wait=True)\n",
    "        if len(self.x) > 250:\n",
    "            plt.plot(self.x[len(self.x)-250:], gaussian_filter1d(self.losses[len(self.x)-250:], 0.8), label=\"loss\")\n",
    "            plt.plot(self.x[len(self.x)-250:], gaussian_filter1d(self.val_losses[len(self.x)-250:], 0.8), label=\"val_loss\")\n",
    "        else:\n",
    "            plt.plot(self.x, gaussian_filter1d(self.losses, 3), label=\"loss\")\n",
    "            plt.plot(self.x, gaussian_filter1d(self.val_losses, 3), label=\"val_loss\")\n",
    "\n",
    "        plt.legend()\n",
    "        plt.show()\n",
    "\n",
    "plot_losses = PlotLosses()\n",
    "log_dir = os.path.join('Logs')\n",
    "tb_callback = TensorBoard(log_dir=log_dir)\n",
    "early__stopping = tf.keras.callbacks.EarlyStopping(monitor='val_loss', patience=50, mode=\"min\", min_delta=0.001)"
   ],
   "metadata": {
    "collapsed": false,
    "pycharm": {
     "name": "#%%\n"
    }
   }
  },
  {
   "cell_type": "code",
   "execution_count": null,
   "outputs": [
    {
     "data": {
      "text/plain": "<Figure size 432x288 with 1 Axes>",
      "image/png": "[encoded data removed]"
     },
     "metadata": {
      "needs_background": "light"
     },
     "output_type": "display_data"
    },
    {
     "name": "stdout",
     "output_type": "stream",
     "text": [
      "32/32 [==============================] - 2s 55ms/step - loss: 0.1467 - accuracy: 0.9558 - val_loss: 0.1116 - val_accuracy: 0.9730\n",
      "Epoch 319/800\n",
      " 1/32 [..............................] - ETA: 1s - loss: 0.1617 - accuracy: 0.9375"
     ]
    }
   ],
   "source": [
    "model = Sequential()\n",
    "model.add(LSTM(256, return_sequences=True, activation='selu', kernel_initializer='lecun_normal', input_shape=(20,244)))\n",
    "model.add(Dropout(0.4))\n",
    "model.add(LSTM(128, return_sequences=False, activation='selu', kernel_initializer='lecun_normal'))\n",
    "model.add(Dropout(0.2))\n",
    "model.add(Dense(64, activation='selu', kernel_initializer='lecun_normal'))\n",
    "model.add(Dropout(0.1))\n",
    "model.add(Dense(32, activation='selu', kernel_initializer='lecun_normal'))\n",
    "model.add(Dense(actions.shape[0], activation='softmax'))\n",
    "\n",
    "from tensorflow.keras.optimizers import SGD\n",
    "opt = SGD(lr=0.0001)\n",
    "\n",
    "model.compile(optimizer=opt, loss=\"categorical_crossentropy\", metrics=['accuracy'])\n",
    "model.fit(X_train, y_train, epochs=800, callbacks=[plot_losses, tb_callback], verbose=1, validation_split=val_split)\n",
    "model.summary()"
   ],
   "metadata": {
    "collapsed": false,
    "pycharm": {
     "name": "#%%\n",
     "is_executing": true
    }
   }
  },
  {
   "cell_type": "code",
   "execution_count": null,
   "outputs": [],
   "source": [
    "y_pred = model.predict(X_test)\n",
    "\n",
    "for i in range(len(y_pred)):\n",
    "    print(\"Predicted:\", actions[np.argmax(y_pred[i])], \" \"*(19 - len(actions[np.argmax(y_pred[i])])), \"  actual: \", actions[np.argmax(y_test[i])], \" \"*(19 - len(actions[np.argmax(y_test[i])])),\n",
    "          \"Result:\", \"Correct\" if np.argmax(y_pred[i]) == np.argmax(y_test[i]) else \"Incorrect\")"
   ],
   "metadata": {
    "collapsed": false,
    "pycharm": {
     "name": "#%%\n",
     "is_executing": true
    }
   }
  },
  {
   "cell_type": "code",
   "execution_count": null,
   "outputs": [],
   "source": [
    "cm = confusion_matrix(np.argmax(y_test, axis=1), np.argmax(y_pred, axis=1))\n",
    "cm"
   ],
   "metadata": {
    "collapsed": false,
    "pycharm": {
     "name": "#%%\n",
     "is_executing": true
    }
   }
  },
  {
   "cell_type": "code",
   "execution_count": null,
   "outputs": [],
   "source": [
    "# print accuracy\n",
    "acc = (cm.diagonal().sum() / cm.sum()) * 100\n",
    "print(f\"Accuracy: {acc}%\")\n",
    "\n",
    "# print precision\n",
    "precision = np.diag(cm) / np.sum(cm, axis=0)\n",
    "print(f\"Precision: {precision}\")\n",
    "\n",
    "# print recall\n",
    "recall = np.diag(cm) / np.sum(cm, axis=1)\n",
    "print(f\"Recall: {recall}\")\n",
    "\n",
    "# print f1 score\n",
    "f1_score = 2 * (precision * recall) / (precision + recall)\n",
    "print(f\"F1 score: {f1_score}\")"
   ],
   "metadata": {
    "collapsed": false,
    "pycharm": {
     "name": "#%%\n",
     "is_executing": true
    }
   }
  },
  {
   "cell_type": "code",
   "execution_count": null,
   "outputs": [],
   "source": [
    "label_map"
   ],
   "metadata": {
    "collapsed": false,
    "pycharm": {
     "name": "#%%\n",
     "is_executing": true
    }
   }
  },
  {
   "cell_type": "code",
   "execution_count": null,
   "outputs": [],
   "source": [
    "model.save('action.h5')\n"
   ],
   "metadata": {
    "collapsed": false,
    "pycharm": {
     "name": "#%%\n",
     "is_executing": true
    }
   }
  }
 ],
 "metadata": {
  "kernelspec": {
   "display_name": "Python 3",
   "language": "python",
   "name": "python3"
  },
  "language_info": {
   "codemirror_mode": {
    "name": "ipython",
    "version": 2
   },
   "file_extension": ".py",
   "mimetype": "text/x-python",
   "name": "python",
   "nbconvert_exporter": "python",
   "pygments_lexer": "ipython2",
   "version": "2.7.6"
  }
 },
 "nbformat": 4,
 "nbformat_minor": 0
}