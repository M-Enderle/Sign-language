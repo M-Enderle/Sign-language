{
 "cells": [
  {
   "cell_type": "code",
   "execution_count": 1,
   "metadata": {
    "collapsed": true
   },
   "outputs": [],
   "source": [
    "import time\n",
    "\n",
    "import numpy as np\n",
    "import mediapipe as mp\n",
    "import cv2"
   ]
  },
  {
   "cell_type": "code",
   "execution_count": 62,
   "outputs": [],
   "source": [
    "mp_holistic = mp.solutions.holistic\n",
    "mp_drawing = mp.solutions.drawing_utils\n",
    "\n",
    "def mediapipe_detection(image, model):\n",
    "    image = cv2.cvtColor(image, cv2.COLOR_BGR2RGB) # COLOR CONVERSION BGR 2 RGB\n",
    "    image.flags.writeable = False                  # Image is no longer writeable\n",
    "    results = model.process(image)                 # Make prediction\n",
    "    image.flags.writeable = True                   # Image is now writeable\n",
    "    image = cv2.cvtColor(image, cv2.COLOR_RGB2BGR) # COLOR COVERSION RGB 2 BGR\n",
    "    return image, results\n",
    "\n",
    "def draw_styled_landmarks(image, results):\n",
    "    # Draw face connections\n",
    "\n",
    "    # Draw pose connections\n",
    "    mp_drawing.draw_landmarks(image, results.pose_landmarks, mp_holistic.POSE_CONNECTIONS,\n",
    "                             mp_drawing.DrawingSpec(color=(80,22,10), thickness=2, circle_radius=4),\n",
    "                             mp_drawing.DrawingSpec(color=(80,44,121), thickness=2, circle_radius=2)\n",
    "                             )\n",
    "    # Draw left hand connections\n",
    "    mp_drawing.draw_landmarks(image, results.left_hand_landmarks, mp_holistic.HAND_CONNECTIONS,\n",
    "                             mp_drawing.DrawingSpec(color=(121,22,76), thickness=2, circle_radius=4),\n",
    "                             mp_drawing.DrawingSpec(color=(121,44,250), thickness=2, circle_radius=2)\n",
    "                             )\n",
    "    # Draw right hand connections\n",
    "    mp_drawing.draw_landmarks(image, results.right_hand_landmarks, mp_holistic.HAND_CONNECTIONS,\n",
    "                             mp_drawing.DrawingSpec(color=(245,117,66), thickness=2, circle_radius=4),\n",
    "                             mp_drawing.DrawingSpec(color=(245,66,230), thickness=2, circle_radius=2)\n",
    "                             )"
   ],
   "metadata": {
    "collapsed": false,
    "pycharm": {
     "name": "#%%\n"
    }
   }
  },
  {
   "cell_type": "code",
   "execution_count": 63,
   "outputs": [],
   "source": [
    "cap = cv2.VideoCapture(0)\n",
    "with mp_holistic.Holistic(min_detection_confidence=0.5, min_tracking_confidence=0.5) as holistic:\n",
    "    while True:\n",
    "        ret, frame = cap.read()\n",
    "        if not ret:\n",
    "            print('Failed to capture frame')\n",
    "            exit(1)\n",
    "        image, results = mediapipe_detection(frame, holistic)\n",
    "        draw_styled_landmarks(image, results)\n",
    "        cv2.imshow('frame', image)\n",
    "        if cv2.waitKey(10) & 0xFF == ord('q'):\n",
    "            break\n",
    "    cap.release()\n",
    "    cv2.destroyAllWindows()"
   ],
   "metadata": {
    "collapsed": false,
    "pycharm": {
     "name": "#%%\n"
    }
   }
  },
  {
   "cell_type": "code",
   "execution_count": 4,
   "outputs": [
    {
     "data": {
      "text/plain": "0.0"
     },
     "execution_count": 4,
     "metadata": {},
     "output_type": "execute_result"
    }
   ],
   "source": [
    "lh = np.array([[res.x, res.y, res.visibility] for res in results.left_hand_landmarks.landmark]) if results.left_hand_landmarks else np.zeros(21*3)\n",
    "lh[0]"
   ],
   "metadata": {
    "collapsed": false,
    "pycharm": {
     "name": "#%%\n"
    }
   }
  },
  {
   "cell_type": "code",
   "execution_count": 45,
   "outputs": [],
   "source": [
    "def plot(x, y):\n",
    "    import matplotlib.pyplot as plt\n",
    "\n",
    "    # plot the left hand landmarks\n",
    "    fig, ax = plt.subplots(1, 1)\n",
    "    ax.scatter(x, y, marker='o', s=10)\n",
    "    ax.set_xlabel('x')\n",
    "    ax.set_ylabel('y')\n",
    "    ax.set_title('Left Hand Landmarks')\n",
    "\n",
    "    # make the scale of the plot consistent\n",
    "    ax.set_xlim(0, 1)\n",
    "    ax.set_ylim(0, 1)\n",
    "\n",
    "    plt.show()"
   ],
   "metadata": {
    "collapsed": false,
    "pycharm": {
     "name": "#%%\n"
    }
   }
  },
  {
   "cell_type": "code",
   "execution_count": 6,
   "outputs": [
    {
     "data": {
      "text/plain": "array([[5.99858344e-01, 5.38756549e-01, 9.99885380e-01],\n       [6.34138584e-01, 4.57614452e-01, 9.99822676e-01],\n       [6.51994586e-01, 4.58739430e-01, 9.99743640e-01],\n       [6.67825341e-01, 4.60235238e-01, 9.99694765e-01],\n       [5.63703835e-01, 4.57632542e-01, 9.99857485e-01],\n       [5.36697745e-01, 4.57252413e-01, 9.99867022e-01],\n       [5.10697365e-01, 4.58497196e-01, 9.99900162e-01],\n       [6.91821456e-01, 4.96258825e-01, 9.99680638e-01],\n       [4.79815722e-01, 4.99507248e-01, 9.99912202e-01],\n       [6.41012609e-01, 6.25074506e-01, 9.99841511e-01],\n       [5.49253583e-01, 6.25500262e-01, 9.99907255e-01],\n       [8.82366180e-01, 9.30064201e-01, 9.91953671e-01],\n       [3.37680131e-01, 9.23917949e-01, 9.97922421e-01],\n       [1.04666412e+00, 1.42975211e+00, 2.16867641e-01],\n       [2.98036437e-04, 1.33494699e+00, 9.35925424e-01],\n       [1.03391659e+00, 1.71672654e+00, 2.11178929e-01],\n       [1.44704491e-01, 8.90267551e-01, 9.34363425e-01],\n       [1.05351102e+00, 1.83214843e+00, 2.44022951e-01],\n       [1.78035468e-01, 6.99906766e-01, 9.23204422e-01],\n       [1.00396609e+00, 1.77234113e+00, 3.21777642e-01],\n       [2.43175223e-01, 6.68887317e-01, 9.33476031e-01],\n       [9.79469955e-01, 1.73542261e+00, 2.97456980e-01],\n       [2.59434402e-01, 7.38456607e-01, 9.24948573e-01],\n       [7.83094883e-01, 1.97503483e+00, 4.60876647e-04],\n       [3.88302505e-01, 1.97849774e+00, 6.59241923e-04],\n       [7.94645488e-01, 2.81689239e+00, 1.54202920e-03],\n       [4.37956005e-01, 2.81334448e+00, 1.04505825e-03],\n       [8.21276307e-01, 3.58003759e+00, 1.25208913e-04],\n       [4.81828839e-01, 3.55693221e+00, 3.25114634e-05],\n       [8.31925273e-01, 3.69726706e+00, 3.82084945e-05],\n       [4.78404999e-01, 3.66422606e+00, 4.60994888e-05],\n       [7.82980025e-01, 3.79469299e+00, 9.84032522e-05],\n       [5.39330840e-01, 3.78635573e+00, 2.25309792e-04]])"
     },
     "execution_count": 6,
     "metadata": {},
     "output_type": "execute_result"
    }
   ],
   "source": [
    "lh = np.array([[res.x, res.y, res.visibility] for res in results.pose_landmarks.landmark if res.visibility]) if results.pose_landmarks else np.zeros(33*4)\n",
    "lh"
   ],
   "metadata": {
    "collapsed": false,
    "pycharm": {
     "name": "#%%\n"
    }
   }
  },
  {
   "cell_type": "code",
   "execution_count": 64,
   "outputs": [
    {
     "data": {
      "text/plain": "<Figure size 432x288 with 1 Axes>",
      "image/png": "[encoded data removed]"
     },
     "metadata": {
      "needs_background": "light"
     },
     "output_type": "display_data"
    }
   ],
   "source": [
    "face = np.array([[res.x, res.y, res.z] for res in results.face_landmarks.landmark]) if results.face_landmarks else np.zeros(468*3)\n",
    "plot(face[:,0], face[:,1])"
   ],
   "metadata": {
    "collapsed": false,
    "pycharm": {
     "name": "#%%\n"
    }
   }
  },
  {
   "cell_type": "code",
   "execution_count": 65,
   "outputs": [
    {
     "data": {
      "text/plain": "<Figure size 432x432 with 1 Axes>",
      "image/png": "[encoded data removed]"
     },
     "metadata": {
      "needs_background": "light"
     },
     "output_type": "display_data"
    }
   ],
   "source": [
    "x_min = np.min(face[:,0])\n",
    "x_max = np.max(face[:,0])\n",
    "y_min = np.min(face[:,1])\n",
    "y_max = np.max(face[:,1])\n",
    "\n",
    "import matplotlib.pyplot as plt\n",
    "\n",
    "fig = plt.figure(figsize=(6, 6))\n",
    "ax = plt.subplot()\n",
    "\n",
    "# plot a rectangle around the face\n",
    "ax.plot(face[:,0], face[:,1], 'o')\n",
    "\n",
    "closest_points = []\n",
    "\n",
    "for y in np.linspace(y_min,y_max,20):\n",
    "    closest_points.append(np.argmin(np.abs(face[:,0] - x_min) + np.abs(face[:,1] - y)))\n",
    "    closest_points.append(np.argmin(np.abs(face[:,0] - x_max) + np.abs(face[:,1] - y)))\n",
    "\n",
    "for x in np.linspace(x_min,x_max,20):\n",
    "    closest_points.append(np.argmin(np.abs(face[:,0] - x) + np.abs(face[:,1] - y_max)))\n",
    "    closest_points.append(np.argmin(np.abs(face[:,0] - x) + np.abs(face[:,1] - y_min)))\n",
    "\n",
    "for i in closest_points:\n",
    "    plt.plot(face[i,0], face[i,1], 'o', color='r')\n",
    "\n",
    "plt.xlim(.40, 0.75)\n",
    "plt.ylim(0.28, 0.8)\n",
    "plt.show()"
   ],
   "metadata": {
    "collapsed": false,
    "pycharm": {
     "name": "#%%\n"
    }
   }
  },
  {
   "cell_type": "code",
   "execution_count": 66,
   "outputs": [
    {
     "data": {
      "text/plain": "(160,)"
     },
     "execution_count": 66,
     "metadata": {},
     "output_type": "execute_result"
    }
   ],
   "source": [
    "np.array([[face[i,0], face[i,1]] for i in closest_points]).flatten().shape\n"
   ],
   "metadata": {
    "collapsed": false,
    "pycharm": {
     "name": "#%%\n"
    }
   }
  }
 ],
 "metadata": {
  "kernelspec": {
   "display_name": "Python 3",
   "language": "python",
   "name": "python3"
  },
  "language_info": {
   "codemirror_mode": {
    "name": "ipython",
    "version": 2
   },
   "file_extension": ".py",
   "mimetype": "text/x-python",
   "name": "python",
   "nbconvert_exporter": "python",
   "pygments_lexer": "ipython2",
   "version": "2.7.6"
  }
 },
 "nbformat": 4,
 "nbformat_minor": 0
}