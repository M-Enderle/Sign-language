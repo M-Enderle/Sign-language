{
 "cells": [
  {
   "cell_type": "code",
   "execution_count": 13,
   "metadata": {
    "collapsed": true
   },
   "outputs": [],
   "source": [
    "import time\n",
    "\n",
    "import numpy as np\n",
    "import mediapipe as mp\n",
    "import cv2"
   ]
  },
  {
   "cell_type": "code",
   "execution_count": 75,
   "outputs": [],
   "source": [
    "mp_holistic = mp.solutions.holistic\n",
    "mp_drawing = mp.solutions.drawing_utils\n",
    "\n",
    "def mediapipe_detection(image, model):\n",
    "    image = cv2.cvtColor(image, cv2.COLOR_BGR2RGB) # COLOR CONVERSION BGR 2 RGB\n",
    "    image.flags.writeable = False                  # Image is no longer writeable\n",
    "    results = model.process(image)                 # Make prediction\n",
    "    image.flags.writeable = True                   # Image is now writeable\n",
    "    image = cv2.cvtColor(image, cv2.COLOR_RGB2BGR) # COLOR COVERSION RGB 2 BGR\n",
    "    return image, results\n",
    "\n",
    "def draw_styled_landmarks(image, results):\n",
    "    # Draw face connections\n",
    "\n",
    "    # Draw pose connections\n",
    "    mp_drawing.draw_landmarks(image, results.pose_landmarks, mp_holistic.POSE_CONNECTIONS,\n",
    "                             mp_drawing.DrawingSpec(color=(80,22,10), thickness=2, circle_radius=4),\n",
    "                             mp_drawing.DrawingSpec(color=(80,44,121), thickness=2, circle_radius=2)\n",
    "                             )\n",
    "    # Draw left hand connections\n",
    "    mp_drawing.draw_landmarks(image, results.left_hand_landmarks, mp_holistic.HAND_CONNECTIONS,\n",
    "                             mp_drawing.DrawingSpec(color=(121,22,76), thickness=2, circle_radius=4),\n",
    "                             mp_drawing.DrawingSpec(color=(121,44,250), thickness=2, circle_radius=2)\n",
    "                             )\n",
    "    # Draw right hand connections\n",
    "    mp_drawing.draw_landmarks(image, results.right_hand_landmarks, mp_holistic.HAND_CONNECTIONS,\n",
    "                             mp_drawing.DrawingSpec(color=(245,117,66), thickness=2, circle_radius=4),\n",
    "                             mp_drawing.DrawingSpec(color=(245,66,230), thickness=2, circle_radius=2)\n",
    "                             )"
   ],
   "metadata": {
    "collapsed": false,
    "pycharm": {
     "name": "#%%\n"
    }
   }
  },
  {
   "cell_type": "code",
   "execution_count": 108,
   "outputs": [],
   "source": [
    "cap = cv2.VideoCapture(0)\n",
    "with mp_holistic.Holistic(min_detection_confidence=0.5, min_tracking_confidence=0.5) as holistic:\n",
    "    while True:\n",
    "        ret, frame = cap.read()\n",
    "        if not ret:\n",
    "            print('Failed to capture frame')\n",
    "            exit(1)\n",
    "        image, results = mediapipe_detection(frame, holistic)\n",
    "        draw_styled_landmarks(image, results)\n",
    "        cv2.imshow('frame', image)\n",
    "        if cv2.waitKey(10) & 0xFF == ord('q'):\n",
    "            break\n",
    "    cap.release()\n",
    "    cv2.destroyAllWindows()"
   ],
   "metadata": {
    "collapsed": false,
    "pycharm": {
     "name": "#%%\n"
    }
   }
  },
  {
   "cell_type": "code",
   "execution_count": 87,
   "outputs": [
    {
     "data": {
      "text/plain": "0.0"
     },
     "execution_count": 87,
     "metadata": {},
     "output_type": "execute_result"
    }
   ],
   "source": [
    "lh = np.array([[res.x, res.y, res.visibility] for res in results.left_hand_landmarks.landmark]) if results.left_hand_landmarks else np.zeros(21*3)\n",
    "lh[0]"
   ],
   "metadata": {
    "collapsed": false,
    "pycharm": {
     "name": "#%%\n"
    }
   }
  },
  {
   "cell_type": "code",
   "execution_count": 135,
   "outputs": [],
   "source": [
    "def plot(x, y):\n",
    "    import matplotlib.pyplot as plt\n",
    "\n",
    "    # plot the left hand landmarks\n",
    "    fig, ax = plt.subplots(1, 1)\n",
    "    ax.scatter(x, y, marker='o', s=10)\n",
    "    ax.set_xlabel('x')\n",
    "    ax.set_ylabel('y')\n",
    "    ax.set_title('Left Hand Landmarks')\n",
    "\n",
    "    # make the scale of the plot consistent\n",
    "    ax.set_xlim(0, 1)\n",
    "    ax.set_ylim(0, 1)\n",
    "\n",
    "    plt.show()"
   ],
   "metadata": {
    "collapsed": false,
    "pycharm": {
     "name": "#%%\n"
    }
   }
  },
  {
   "cell_type": "code",
   "execution_count": 111,
   "outputs": [
    {
     "data": {
      "text/plain": "array([[ 2.26650715e-01,  4.90502685e-01,  9.99952376e-01],\n       [ 2.58807808e-01,  4.05472398e-01,  9.99930382e-01],\n       [ 2.85039425e-01,  3.97337347e-01,  9.99938488e-01],\n       [ 3.07212204e-01,  3.90508175e-01,  9.99939501e-01],\n       [ 1.80959791e-01,  4.26248521e-01,  9.99897122e-01],\n       [ 1.57863379e-01,  4.32616740e-01,  9.99862432e-01],\n       [ 1.40217289e-01,  4.37975079e-01,  9.99809504e-01],\n       [ 3.38410556e-01,  4.17291224e-01,  9.99955833e-01],\n       [ 1.18481681e-01,  4.72257584e-01,  9.99879956e-01],\n       [ 2.86317438e-01,  5.64684451e-01,  9.99944866e-01],\n       [ 1.87594295e-01,  5.85673392e-01,  9.99890208e-01],\n       [ 5.24037182e-01,  7.90443420e-01,  9.99689400e-01],\n       [ 4.59933504e-02,  9.14592087e-01,  9.90393937e-01],\n       [ 9.55063939e-01,  7.93655515e-01,  9.57967758e-01],\n       [-4.32237312e-02,  1.45783937e+00,  7.65766725e-02],\n       [ 7.35094190e-01,  1.81925446e-01,  9.64611471e-01],\n       [-3.34824398e-02,  1.89148271e+00,  5.18224873e-02],\n       [ 6.85798109e-01,  2.15548705e-02,  9.42275882e-01],\n       [-5.59010990e-02,  2.04622340e+00,  8.21243972e-02],\n       [ 6.43818021e-01,  3.72475199e-02,  9.48884010e-01],\n       [-1.84719600e-02,  2.05386257e+00,  1.39855862e-01],\n       [ 6.45839334e-01,  1.01120725e-01,  9.42500174e-01],\n       [-1.50087813e-03,  1.99381649e+00,  1.44308671e-01],\n       [ 5.03608167e-01,  1.91767776e+00,  9.02698096e-03],\n       [ 1.43423781e-01,  1.92083347e+00,  2.22827215e-03],\n       [ 5.27383924e-01,  2.82324862e+00,  1.95882912e-03],\n       [ 1.87996224e-01,  2.80309010e+00,  4.31364606e-04],\n       [ 5.43463230e-01,  3.60370040e+00,  1.39791970e-04],\n       [ 2.12337047e-01,  3.57265019e+00,  4.02705837e-06],\n       [ 5.68390250e-01,  3.71610117e+00,  1.58601397e-04],\n       [ 2.09884733e-01,  3.68201852e+00,  5.30102625e-05],\n       [ 4.68448400e-01,  3.83619618e+00,  9.41029284e-05],\n       [ 2.67188549e-01,  3.83346963e+00,  4.51895648e-05]])"
     },
     "execution_count": 111,
     "metadata": {},
     "output_type": "execute_result"
    }
   ],
   "source": [
    "lh = np.array([[res.x, res.y, res.visibility] for res in results.pose_landmarks.landmark if res.visibility]) if results.pose_landmarks else np.zeros(33*4)\n",
    "lh"
   ],
   "metadata": {
    "collapsed": false,
    "pycharm": {
     "name": "#%%\n"
    }
   }
  },
  {
   "cell_type": "code",
   "execution_count": 148,
   "outputs": [
    {
     "data": {
      "text/plain": "<Figure size 432x288 with 1 Axes>",
      "image/png": "[encoded data removed]"
     },
     "metadata": {
      "needs_background": "light"
     },
     "output_type": "display_data"
    }
   ],
   "source": [
    "face = np.array([[res.x, res.y, res.z] for res in results.face_landmarks.landmark]) if results.face_landmarks else np.zeros(468*3)\n",
    "plot(face[:,0], face[:,1])"
   ],
   "metadata": {
    "collapsed": false,
    "pycharm": {
     "name": "#%%\n"
    }
   }
  },
  {
   "cell_type": "code",
   "execution_count": 183,
   "outputs": [
    {
     "data": {
      "text/plain": "<Figure size 432x288 with 1 Axes>",
      "image/png": "[encoded data removed]"
     },
     "metadata": {
      "needs_background": "light"
     },
     "output_type": "display_data"
    }
   ],
   "source": [
    "x_min = np.min(face[:,0]) - 0.05\n",
    "x_max = np.max(face[:,0]) + 0.05\n",
    "y_min = np.min(face[:,1]) - 0.05\n",
    "y_max = np.max(face[:,1]) + 0.05\n",
    "\n",
    "import matplotlib.pyplot as plt\n",
    "\n",
    "# plot a rectangle around the face\n",
    "plt.plot(face[:,0], face[:,1], 'o')\n",
    "\n",
    "closest_points = []\n",
    "\n",
    "for y in np.linspace(y_min,y_max,20):\n",
    "    idx = np.argmin(np.abs(face[:,0] - x_min) + np.abs(face[:,1] - y))\n",
    "    plt.plot(face[idx,0], face[idx,1], 'ro')\n",
    "    idx = np.argmin(np.abs(face[:,0] - x_max) + np.abs(face[:,1] - y))\n",
    "    plt.plot(face[idx,0], face[idx,1], 'ro')\n",
    "\n",
    "for x in np.linspace(x_min,x_max,20):\n",
    "    idx = np.argmin(np.abs(face[:,0] - x) + np.abs(face[:,1] - y_max))\n",
    "    plt.plot(face[idx,0], face[idx,1], 'ro')\n",
    "    idx = np.argmin(np.abs(face[:,0] - x) + np.abs(face[:,1] - y_min))\n",
    "    plt.plot(face[idx,0], face[idx,1], 'ro')\n",
    "\n",
    "\n",
    "plt.xlim(0, 0.5)\n",
    "plt.ylim(0.2, 0.75)\n",
    "plt.show()"
   ],
   "metadata": {
    "collapsed": false,
    "pycharm": {
     "name": "#%%\n"
    }
   }
  },
  {
   "cell_type": "code",
   "execution_count": 151,
   "outputs": [
    {
     "data": {
      "text/plain": "array([0. , 0.1, 0.2, 0.3, 0.4, 0.5, 0.6, 0.7, 0.8, 0.9, 1. ])"
     },
     "execution_count": 151,
     "metadata": {},
     "output_type": "execute_result"
    }
   ],
   "source": [
    "np.linspace(0,1,11)\n"
   ],
   "metadata": {
    "collapsed": false,
    "pycharm": {
     "name": "#%%\n"
    }
   }
  }
 ],
 "metadata": {
  "kernelspec": {
   "display_name": "Python 3",
   "language": "python",
   "name": "python3"
  },
  "language_info": {
   "codemirror_mode": {
    "name": "ipython",
    "version": 2
   },
   "file_extension": ".py",
   "mimetype": "text/x-python",
   "name": "python",
   "nbconvert_exporter": "python",
   "pygments_lexer": "ipython2",
   "version": "2.7.6"
  }
 },
 "nbformat": 4,
 "nbformat_minor": 0
}